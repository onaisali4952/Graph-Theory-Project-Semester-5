{
 "cells": [
  {
   "cell_type": "markdown",
   "metadata": {},
   "source": [
    "## Importing the relevant libraries that will be used in the upcoming codes"
   ]
  },
  {
   "cell_type": "code",
   "execution_count": 27,
   "metadata": {},
   "outputs": [],
   "source": [
    "import networkx as ntx\n",
    "import matplotlib.pyplot as plt\n",
    "from collections import deque"
   ]
  },
  {
   "cell_type": "markdown",
   "metadata": {},
   "source": [
    "# DFS"
   ]
  },
  {
   "cell_type": "markdown",
   "metadata": {},
   "source": [
    "## The DFS function"
   ]
  },
  {
   "cell_type": "code",
   "execution_count": null,
   "metadata": {},
   "outputs": [],
   "source": [
    "def dfs_tree(graph, start):\n",
    "    visited = set()\n",
    "    stack = [(start, None)]  # (node, parent)\n",
    "\n",
    "    dfs_tree_edges = {}\n",
    "\n",
    "    while stack:\n",
    "        node, parent = stack.pop()\n",
    "\n",
    "        if node not in visited:\n",
    "            visited.add(node)\n",
    "\n",
    "            if parent is not None:\n",
    "                dfs_tree_edges[(parent, node)] = True\n",
    "\n",
    "            # Explore neighbors in reverse order to match the order of the dfs_edges function\n",
    "            neighbors = list(graph.neighbors(node))\n",
    "            neighbors.reverse()\n",
    "            stack.extend((neighbor, node) for neighbor in neighbors if neighbor not in visited)\n",
    "\n",
    "    return dfs_tree_edges\n"
   ]
  },
  {
   "cell_type": "markdown",
   "metadata": {},
   "source": [
    "## Running DFS on a directed graph"
   ]
  },
  {
   "cell_type": "code",
   "execution_count": null,
   "metadata": {},
   "outputs": [],
   "source": [
    "# Creating a directed graph\n",
    "G = ntx.DiGraph()\n",
    "\n",
    "# Adding nodes and edges to the graph\n",
    "# Node 4 is intentionally left dead\n",
    "# Edge going from 6 to 9 is a bridge\n",
    "G.add_edges_from([(3, 14), (3, 13), (7, 3), (13, 1), (6, 13), (7, 6),\n",
    "                  (1, 7), (4, 7), (6, 9), (2, 1), (6, 2), (2, 11), (11, 10),\n",
    "                  (9, 5), (12, 5), (8, 9), (5, 8), (8, 15), (15, 12)])\n",
    "\n",
    "# Set start node as wished and run DFS function to obtain the edge set for DFS tree\n",
    "start_node = 1\n",
    "dfs_tree_edges = dfs_tree(G, start_node)\n",
    "\n",
    "# Creating the DFS graph with obtained edge set\n",
    "dfs_tree_graph = ntx.DiGraph(list(dfs_tree_edges.keys()))\n",
    "\n",
    "# Planar layout used to create a graph that will easily convey information\n",
    "pos = ntx.planar_layout(G)\n",
    "\n",
    "# Both the original and DFS versions of the graph are displayed to show the \n",
    "# DFS tree in contrast to the original graph it was performed on\n",
    "ntx.draw(G, pos, with_labels=True, font_weight='bold', node_color='lightblue', edge_color='gray')\n",
    "ntx.draw(dfs_tree_graph, pos, with_labels=True, font_weight='bold', node_color='salmon', edge_color='red', style='dashed')\n",
    "\n",
    "plt.show()"
   ]
  },
  {
   "cell_type": "markdown",
   "metadata": {},
   "source": [
    "## Running DFS on an undirected graph"
   ]
  },
  {
   "cell_type": "code",
   "execution_count": null,
   "metadata": {},
   "outputs": [],
   "source": [
    "G = ntx.Graph()\n",
    "\n",
    "G.add_edges_from([(3, 14), (3, 13), (7, 3), (13, 1), (6, 13), (7, 6),\n",
    "                  (1, 7), (4, 7), (6, 9), (2, 1), (6, 2), (2, 11), (11, 10),\n",
    "                  (9, 5), (12, 5), (8, 9), (5, 8), (8, 15), (15, 12)])\n",
    "\n",
    "start_node = 1\n",
    "dfs_tree_edges = dfs_tree(G, start_node)\n",
    "\n",
    "dfs_tree_graph = ntx.Graph(list(dfs_tree_edges.keys()))\n",
    "\n",
    "pos = ntx.planar_layout(G)\n",
    "\n",
    "ntx.draw(G, pos, with_labels=True, font_weight='bold', node_color='lightblue', edge_color='gray')\n",
    "ntx.draw(dfs_tree_graph, pos, with_labels=True, font_weight='bold', node_color='salmon', edge_color='red', style='dashed')\n",
    "\n",
    "plt.show()"
   ]
  },
  {
   "cell_type": "markdown",
   "metadata": {},
   "source": [
    "# BFS"
   ]
  },
  {
   "cell_type": "markdown",
   "metadata": {},
   "source": [
    "## Function for BFS"
   ]
  },
  {
   "cell_type": "code",
   "execution_count": null,
   "metadata": {},
   "outputs": [],
   "source": [
    "def bfs_tree(graph, start):\n",
    "    visited = set()\n",
    "    queue = deque([(start, None)])\n",
    "\n",
    "    bfs_tree_edges = {}\n",
    "\n",
    "    while queue:\n",
    "        node, parent = queue.popleft()\n",
    "\n",
    "        if node not in visited:\n",
    "            visited.add(node)\n",
    "\n",
    "            if parent is not None:\n",
    "                bfs_tree_edges[(parent, node)] = True\n",
    "\n",
    "            # Explore neighbors in order\n",
    "            neighbors = list(graph.neighbors(node))\n",
    "            queue.extend((neighbor, node) for neighbor in neighbors if neighbor not in visited)\n",
    "\n",
    "    return bfs_tree_edges"
   ]
  },
  {
   "cell_type": "markdown",
   "metadata": {},
   "source": [
    "## Running BFS on a directed graph"
   ]
  },
  {
   "cell_type": "code",
   "execution_count": null,
   "metadata": {},
   "outputs": [],
   "source": [
    "# Creating a directed graph\n",
    "G = ntx.DiGraph()\n",
    "\n",
    "# Add nodes and edges to the graph\n",
    "G.add_edges_from([(3, 14), (3, 13), (7, 3), (13, 1), (6, 13), (7, 6),\n",
    "                  (1, 7), (4, 7), (6, 9), (2, 1), (6, 2), (2, 11), (11, 10),\n",
    "                  (9, 5), (12, 5), (8, 9), (5, 8), (8, 15), (15, 12)])\n",
    "\n",
    "# Set start node as wished and run BFS function to obtain the edge set for BFS tree\n",
    "start_node = 1\n",
    "bfs_tree_edges = bfs_tree(G, start_node)\n",
    "\n",
    "# Creating the BFS graph with obtained edge set\n",
    "bfs_tree_graph = ntx.DiGraph(list(bfs_tree_edges.keys()))\n",
    "\n",
    "# Planar layout used to create a graph that will easily convey information\n",
    "pos = ntx.planar_layout(G)\n",
    "\n",
    "# Both the original and DFS versions of the graph are displayed to show the \n",
    "# BFS tree in contrast to the original graph it was performed on\n",
    "ntx.draw(G, pos, with_labels=True, font_weight='bold', node_color='lightblue', edge_color='gray')\n",
    "ntx.draw(bfs_tree_graph, pos, with_labels=True, font_weight='bold', node_color='salmon', edge_color='red', style='dashed')\n",
    "\n",
    "plt.show()\n"
   ]
  },
  {
   "cell_type": "markdown",
   "metadata": {},
   "source": [
    "## Running BFS on an undirected graph"
   ]
  },
  {
   "cell_type": "code",
   "execution_count": null,
   "metadata": {},
   "outputs": [],
   "source": [
    "G = ntx.Graph()\n",
    "\n",
    "G.add_edges_from([(3, 14), (3, 13), (7, 3), (13, 1), (6, 13), (7, 6),\n",
    "                  (1, 7), (4, 7), (6, 9), (2, 1), (6, 2), (2, 11), (11, 10),\n",
    "                  (9, 5), (12, 5), (8, 9), (5, 8), (8, 15), (15, 12)])\n",
    "\n",
    "start_node = 1\n",
    "bfs_tree_edges = bfs_tree(G, start_node)\n",
    "\n",
    "bfs_tree_graph = ntx.Graph(list(bfs_tree_edges.keys()))\n",
    "\n",
    "pos = ntx.planar_layout(G)\n",
    "\n",
    "ntx.draw(G, pos, with_labels=True, font_weight='bold', node_color='lightblue', edge_color='gray')\n",
    "ntx.draw(bfs_tree_graph, pos, with_labels=True, font_weight='bold', node_color='salmon', edge_color='red', style='dashed')\n",
    "\n",
    "plt.show()\n"
   ]
  },
  {
   "cell_type": "markdown",
   "metadata": {},
   "source": [
    "# Max-Flow Algorithm"
   ]
  },
  {
   "cell_type": "markdown",
   "metadata": {},
   "source": [
    "#### Function to check whether a path from source to sink exists (stopping criteria)"
   ]
  },
  {
   "cell_type": "code",
   "execution_count": 35,
   "metadata": {},
   "outputs": [],
   "source": [
    "def check_valid_path(graph, current_node, sink, current_path):\n",
    "    if current_node == sink:\n",
    "        return current_node\n",
    "\n",
    "    for edge in graph.neighbors(current_node):\n",
    "        slack = graph[current_node][edge]['capacity'] - graph[current_node][edge]['flow']\n",
    "        if slack > 0 and edge not in current_path:\n",
    "            resultant_path = check_valid_path(graph, edge, sink, current_path + [(current_node, edge)])\n",
    "        if resultant_path is not None:\n",
    "            return resultant_path"
   ]
  },
  {
   "cell_type": "markdown",
   "metadata": {},
   "source": [
    "#### Code for the augmenting flow algorithm"
   ]
  },
  {
   "cell_type": "code",
   "execution_count": 36,
   "metadata": {},
   "outputs": [],
   "source": [
    "def augmenting_flow(graph, source, sink):\n",
    "    max_flow = 0\n",
    "    iterated_path = check_valid_path(graph, source, sink, [])\n",
    "\n",
    "    while iterated_path is not None:\n",
    "        for u, v in iterated_path:\n",
    "            slack = graph[u][v]['capacity'] - graph[u][v]['flow']\n",
    "            min_cap = min(slack, min_cap)\n",
    "        \n",
    "        for u, v in iterated_path:\n",
    "            graph[u][v]['flow'] += min_cap\n",
    "        \n",
    "        max_flow += min_cap\n",
    "\n",
    "        ## Print graph of iterated path here\n",
    "\n",
    "        iterated_path = check_valid_path(graph, source, sink, [])\n",
    "\n",
    "    return max_flow"
   ]
  },
  {
   "cell_type": "code",
   "execution_count": null,
   "metadata": {},
   "outputs": [],
   "source": [
    "G = ntx.DiGraph()\n",
    "G.add_edge(1, 2, capacity = 1, flow = 0)"
   ]
  }
 ],
 "metadata": {
  "kernelspec": {
   "display_name": "Python 3",
   "language": "python",
   "name": "python3"
  },
  "language_info": {
   "codemirror_mode": {
    "name": "ipython",
    "version": 3
   },
   "file_extension": ".py",
   "mimetype": "text/x-python",
   "name": "python",
   "nbconvert_exporter": "python",
   "pygments_lexer": "ipython3",
   "version": "3.11.6"
  }
 },
 "nbformat": 4,
 "nbformat_minor": 2
}
